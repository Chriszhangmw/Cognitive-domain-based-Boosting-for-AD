{
 "cells": [
  {
   "cell_type": "code",
   "execution_count": null,
   "metadata": {},
   "outputs": [],
   "source": [
    "!pip install transformers[torch]\n",
    "!pip install accelerate -U"
   ]
  },
  {
   "cell_type": "code",
   "execution_count": null,
   "metadata": {},
   "outputs": [],
   "source": [
    "!pip install -q datasets transformers"
   ]
  },
  {
   "cell_type": "code",
   "execution_count": 3,
   "metadata": {},
   "outputs": [
    {
     "name": "stderr",
     "output_type": "stream",
     "text": [
      "C:\\Users\\zhang\\AppData\\Roaming\\Python\\Python310\\site-packages\\tqdm\\auto.py:21: TqdmWarning: IProgress not found. Please update jupyter and ipywidgets. See https://ipywidgets.readthedocs.io/en/stable/user_install.html\n",
      "  from .autonotebook import tqdm as notebook_tqdm\n"
     ]
    },
    {
     "name": "stdout",
     "output_type": "stream",
     "text": [
      "WARNING:tensorflow:From d:\\software_installation\\anaconda\\envs\\adni\\lib\\site-packages\\keras\\src\\losses.py:2976: The name tf.losses.sparse_softmax_cross_entropy is deprecated. Please use tf.compat.v1.losses.sparse_softmax_cross_entropy instead.\n",
      "\n"
     ]
    },
    {
     "name": "stderr",
     "output_type": "stream",
     "text": [
      "C:\\Users\\zhang\\AppData\\Roaming\\Python\\Python310\\site-packages\\transformers\\models\\vit\\feature_extraction_vit.py:28: FutureWarning: The class ViTFeatureExtractor is deprecated and will be removed in version 5 of Transformers. Please use ViTImageProcessor instead.\n",
      "  warnings.warn(\n",
      "Some weights of ViTModel were not initialized from the model checkpoint at ./checkpoint-840/ and are newly initialized: ['vit.pooler.dense.bias', 'vit.pooler.dense.weight']\n",
      "You should probably TRAIN this model on a down-stream task to be able to use it for predictions and inference.\n"
     ]
    }
   ],
   "source": [
    "from PIL import Image\n",
    "import requests\n",
    "from transformers import AutoModelForImageClassification, AutoImageProcessor\n",
    "from transformers import ViTFeatureExtractor, ViTModel\n",
    "import torch\n",
    "repo_name = \"./checkpoint-840/\"\n",
    "feature_extractor = ViTFeatureExtractor.from_pretrained(repo_name)\n",
    "model = ViTModel.from_pretrained(repo_name)\n",
    "\n",
    "def generate_embeddings_from_finetuned_model(image):\n",
    "  inputs = feature_extractor(images=image, return_tensors=\"pt\")\n",
    "  outputs = model(**inputs)\n",
    "  last_hidden_states = outputs.last_hidden_state.tolist()\n",
    "  pooler_output = outputs.pooler_output.tolist()\n",
    "  return last_hidden_states,pooler_output"
   ]
  },
  {
   "cell_type": "code",
   "execution_count": 8,
   "metadata": {},
   "outputs": [
    {
     "name": "stderr",
     "output_type": "stream",
     "text": [
      "  0%|          | 0/265 [00:00<?, ?it/s]"
     ]
    },
    {
     "name": "stderr",
     "output_type": "stream",
     "text": [
      " 53%|█████▎    | 141/265 [22:17<1:18:30, 37.99s/it]"
     ]
    }
   ],
   "source": [
    "import pickle\n",
    "from tqdm import tqdm\n",
    "with open('../data_info_images_path.pkl', 'rb') as f:\n",
    "    data_info = pickle.load(f)\n",
    "\n",
    "res_last_hidden_states1 = {}\n",
    "res_pooler_output1 = {}\n",
    "\n",
    "res_last_hidden_states2 = {}\n",
    "res_pooler_output2 = {}\n",
    "\n",
    "res_last_hidden_states3 = {}\n",
    "res_pooler_output3 = {}\n",
    "\n",
    "\n",
    "for k,v in tqdm(data_info.items()):\n",
    "  top_image_paths_list1 = v['top_image_paths_list1']\n",
    "  top_image_paths_list2 = v['top_image_paths_list2']\n",
    "  top_image_paths_list3 = v['top_image_paths_list3']\n",
    "\n",
    "  last_hidden_states1_list = []\n",
    "  last_hidden_states2_list = []\n",
    "  last_hidden_states3_list = []\n",
    "  pooler_output1_list = []\n",
    "  pooler_output2_list = []\n",
    "  pooler_output3_list = []\n",
    "  for p in top_image_paths_list1:\n",
    "    p = str(p)\n",
    "    p = p.replace('\\\\', '/')\n",
    "    p = p.replace('./datasets','../datasets')\n",
    "    # print(p)\n",
    "    image = Image.open(p).convert('RGB')\n",
    "    last_hidden_states1,pooler_output1 = generate_embeddings_from_finetuned_model(image)\n",
    "    last_hidden_states1_list.append(last_hidden_states1)\n",
    "    pooler_output1_list.append(pooler_output1)\n",
    "  res_last_hidden_states1[k] = last_hidden_states1_list\n",
    "  res_pooler_output1[k] = pooler_output1_list\n",
    "  for p in top_image_paths_list2:\n",
    "    p = str(p)\n",
    "    p = p.replace('\\\\', '/')\n",
    "    p = p.replace('./datasets','../datasets')\n",
    "    image = Image.open(p).convert('RGB')\n",
    "    last_hidden_states2,pooler_output2 = generate_embeddings_from_finetuned_model(image)\n",
    "    last_hidden_states2_list.append(last_hidden_states2)\n",
    "    pooler_output2_list.append(pooler_output2)\n",
    "  res_last_hidden_states2[k] = last_hidden_states2_list\n",
    "  res_pooler_output2[k] = pooler_output2_list\n",
    "  for p in top_image_paths_list3:\n",
    "    p = str(p)\n",
    "    p = p.replace('\\\\', '/')\n",
    "    p = p.replace('./datasets','../datasets')\n",
    "    image = Image.open(p).convert('RGB')\n",
    "    last_hidden_states3,pooler_output3 = generate_embeddings_from_finetuned_model(image)\n",
    "    last_hidden_states3_list.append(last_hidden_states3)\n",
    "    pooler_output3_list.append(pooler_output3)\n",
    "  res_last_hidden_states3[k] = last_hidden_states3_list\n",
    "  res_pooler_output3[k] = pooler_output3_list"
   ]
  },
  {
   "cell_type": "code",
   "execution_count": null,
   "metadata": {},
   "outputs": [],
   "source": [
    "import pickle\n",
    "\n",
    "# 将字典保存为 Pickle 文件\n",
    "with open('res_last_hidden_states1.pkl', 'wb') as pickle_file:\n",
    "    pickle.dump(res_last_hidden_states1, pickle_file)\n",
    "with open('res_last_hidden_states2.pkl', 'wb') as pickle_file:\n",
    "    pickle.dump(res_last_hidden_states2, pickle_file)\n",
    "with open('res_last_hidden_states3.pkl', 'wb') as pickle_file:\n",
    "    pickle.dump(res_last_hidden_states3, pickle_file)\n",
    "\n",
    "with open('res_pooler_output1.pkl', 'wb') as pickle_file:\n",
    "    pickle.dump(res_pooler_output1, pickle_file)\n",
    "with open('res_pooler_output2.pkl', 'wb') as pickle_file:\n",
    "    pickle.dump(res_pooler_output2, pickle_file)\n",
    "with open('res_pooler_output3.pkl', 'wb') as pickle_file:\n",
    "    pickle.dump(res_pooler_output3, pickle_file)"
   ]
  },
  {
   "cell_type": "code",
   "execution_count": null,
   "metadata": {},
   "outputs": [],
   "source": []
  },
  {
   "cell_type": "code",
   "execution_count": null,
   "metadata": {},
   "outputs": [],
   "source": []
  }
 ],
 "metadata": {
  "kernelspec": {
   "display_name": "adni",
   "language": "python",
   "name": "python3"
  },
  "language_info": {
   "codemirror_mode": {
    "name": "ipython",
    "version": 3
   },
   "file_extension": ".py",
   "mimetype": "text/x-python",
   "name": "python",
   "nbconvert_exporter": "python",
   "pygments_lexer": "ipython3",
   "version": "3.10.13"
  }
 },
 "nbformat": 4,
 "nbformat_minor": 2
}
